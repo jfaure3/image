{
 "cells": [
  {
   "cell_type": "markdown",
   "metadata": {},
   "source": [
    "# Manipulation des images avec des listes de listes"
   ]
  },
  {
   "cell_type": "markdown",
   "metadata": {},
   "source": [
    "## Convertir une liste de liste en véritable image"
   ]
  },
  {
   "cell_type": "code",
   "execution_count": 43,
   "metadata": {},
   "outputs": [],
   "source": [
    "from PIL import Image\n",
    "\n",
    "def affiche_image(L):\n",
    "    largeur, hauteur = len(L[0]), len(L)\n",
    "    mon_image = Image.new('RGB', (largeur, hauteur), 0)\n",
    "    for y in range(hauteur):\n",
    "        for x in range(largeur):\n",
    "            mon_image.putpixel((x, y),tuple(L[y][x]))\n",
    "    img_grande = mon_image.resize((10*largeur, 10*hauteur), resample=0)\n",
    "    img_grande.show()"
   ]
  },
  {
   "cell_type": "markdown",
   "metadata": {},
   "source": [
    "## Drapeau mystère"
   ]
  },
  {
   "cell_type": "code",
   "execution_count": 44,
   "metadata": {},
   "outputs": [],
   "source": [
    "def DrapImage():\n",
    "    L=[[0 for j in range(14)] for i in range(9)]\n",
    "    for j in range(14):\n",
    "        L[0][j]=[255,255,255]\n",
    "        L[7][j]=[255,255,255]\n",
    "        L[8][j]=[255,255,255]\n",
    "    for i in range(1,7):\n",
    "        L[i][0]=[255,255,255]\n",
    "        L[i][13]=[255,255,255]\n",
    "    for i in range(1,7):\n",
    "        for j in range(1,5):\n",
    "            L[i][j]=[0,0,255]\n",
    "        for j in range(5,9):\n",
    "            L[i][j]=[255,255,255]\n",
    "        for j in range(9,13):\n",
    "            L[i][j]=[255,0,0]\n",
    "    return L\n",
    "\n",
    "affiche_image(DrapImage())"
   ]
  },
  {
   "cell_type": "markdown",
   "metadata": {},
   "source": [
    "## Drapeau suédois"
   ]
  },
  {
   "attachments": {
    "image.png": {
     "image/png": "[encoded data removed]"
    }
   },
   "cell_type": "markdown",
   "metadata": {},
   "source": [
    "> Proposer un script en langage python qui permet d'obtenir le drapeau suédois ci-dessous.\n",
    "![image.png](attachment:image.png)"
   ]
  },
  {
   "cell_type": "code",
   "execution_count": null,
   "metadata": {},
   "outputs": [],
   "source": [
    "def drap_suede():\n",
    "    ...\n",
    "    return L\n",
    "\n",
    "affiche_image(drap_suede())"
   ]
  },
  {
   "cell_type": "markdown",
   "metadata": {},
   "source": [
    "## Symétrie"
   ]
  },
  {
   "cell_type": "markdown",
   "metadata": {},
   "source": [
    "> Inverser verticalement l'image associée à la liste renvoyée par la fonction `image_a_inverser`"
   ]
  },
  {
   "cell_type": "code",
   "execution_count": 51,
   "metadata": {},
   "outputs": [],
   "source": [
    "def image_a_inverser():\n",
    "    return [[[10*x+20*y, abs(10*x-20*y), abs(-10*x+20*y)] for x in range(25)] for y in range(12)]\n",
    "\n",
    "affiche_image(image_a_inverser())"
   ]
  },
  {
   "cell_type": "code",
   "execution_count": null,
   "metadata": {},
   "outputs": [],
   "source": [
    "def symetrie_verticale(L):\n",
    "    ...\n",
    "    return L\n",
    "\n",
    "affiche_image(symetrie_verticale())"
   ]
  }
 ],
 "metadata": {
  "kernelspec": {
   "display_name": "Python 3",
   "language": "python",
   "name": "python3"
  },
  "language_info": {
   "codemirror_mode": {
    "name": "ipython",
    "version": 3
   },
   "file_extension": ".py",
   "mimetype": "text/x-python",
   "name": "python",
   "nbconvert_exporter": "python",
   "pygments_lexer": "ipython3",
   "version": "3.7.6"
  }
 },
 "nbformat": 4,
 "nbformat_minor": 4
}
